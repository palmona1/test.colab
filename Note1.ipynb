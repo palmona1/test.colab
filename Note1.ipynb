{
  "nbformat": 4,
  "nbformat_minor": 0,
  "metadata": {
    "colab": {
      "name": "Note1.ipynb",
      "provenance": [],
      "toc_visible": true,
      "authorship_tag": "ABX9TyMm6LQvHiCxoiCo8xmeZIl2",
      "include_colab_link": true
    },
    "kernelspec": {
      "name": "python3",
      "display_name": "Python 3"
    },
    "language_info": {
      "name": "python"
    }
  },
  "cells": [
    {
      "cell_type": "markdown",
      "metadata": {
        "id": "view-in-github",
        "colab_type": "text"
      },
      "source": [
        "<a href=\"https://colab.research.google.com/github/palmona1/test.colab/blob/main/Note1.ipynb\" target=\"_parent\"><img src=\"https://colab.research.google.com/assets/colab-badge.svg\" alt=\"Open In Colab\"/></a>"
      ]
    },
    {
      "cell_type": "markdown",
      "source": [
        "### Sales"
      ],
      "metadata": {
        "id": "5nzoxKXDdWQZ"
      }
    },
    {
      "cell_type": "code",
      "source": [
        "revenue =  3000"
      ],
      "metadata": {
        "id": "AWqUDf9tcu8Q"
      },
      "execution_count": 2,
      "outputs": []
    },
    {
      "cell_type": "code",
      "source": [
        "Tax = 0.3"
      ],
      "metadata": {
        "id": "GeBuQ7pUcvJa"
      },
      "execution_count": 3,
      "outputs": []
    },
    {
      "cell_type": "code",
      "source": [
        "Income = revenue*Tax"
      ],
      "metadata": {
        "id": "oJUOA-06cvfK"
      },
      "execution_count": 4,
      "outputs": []
    },
    {
      "cell_type": "code",
      "source": [
        "Income"
      ],
      "metadata": {
        "id": "AxjK98WWc5Lx",
        "outputId": "0464399e-a857-45df-ed8b-efc80e30668f",
        "colab": {
          "base_uri": "https://localhost:8080/"
        }
      },
      "execution_count": 5,
      "outputs": [
        {
          "output_type": "execute_result",
          "data": {
            "text/plain": [
              "900.0"
            ]
          },
          "metadata": {},
          "execution_count": 5
        }
      ]
    },
    {
      "cell_type": "markdown",
      "source": [
        "### Summary"
      ],
      "metadata": {
        "id": "P4zLPl_EdfN8"
      }
    },
    {
      "cell_type": "code",
      "source": [
        "import numpy as np"
      ],
      "metadata": {
        "id": "K0FGIMQFc6QM"
      },
      "execution_count": 6,
      "outputs": []
    },
    {
      "cell_type": "code",
      "source": [
        "np.__version__"
      ],
      "metadata": {
        "id": "9AGrsdmEc7rG",
        "outputId": "7e6c9e88-e7a0-4690-f673-7c722ced7dd9",
        "colab": {
          "base_uri": "https://localhost:8080/",
          "height": 35
        }
      },
      "execution_count": 7,
      "outputs": [
        {
          "output_type": "execute_result",
          "data": {
            "text/plain": [
              "'1.21.6'"
            ],
            "application/vnd.google.colaboratory.intrinsic+json": {
              "type": "string"
            }
          },
          "metadata": {},
          "execution_count": 7
        }
      ]
    },
    {
      "cell_type": "code",
      "source": [
        "np.random.rand?"
      ],
      "metadata": {
        "id": "2B3M2ehJjjxS"
      },
      "execution_count": 8,
      "outputs": []
    },
    {
      "cell_type": "code",
      "source": [
        "import imageia"
      ],
      "metadata": {
        "id": "cyr46ePVkq6a",
        "outputId": "10cd13e8-714e-4b11-89fe-93c2d5414b2f",
        "colab": {
          "base_uri": "https://localhost:8080/",
          "height": 305
        }
      },
      "execution_count": 10,
      "outputs": [
        {
          "output_type": "error",
          "ename": "ModuleNotFoundError",
          "evalue": "ignored",
          "traceback": [
            "\u001b[0;31m---------------------------------------------------------------------------\u001b[0m",
            "\u001b[0;31mModuleNotFoundError\u001b[0m                       Traceback (most recent call last)",
            "\u001b[0;32m<ipython-input-10-95177fd3c437>\u001b[0m in \u001b[0;36m<module>\u001b[0;34m()\u001b[0m\n\u001b[0;32m----> 1\u001b[0;31m \u001b[0;32mimport\u001b[0m \u001b[0mimageia\u001b[0m\u001b[0;34m\u001b[0m\u001b[0;34m\u001b[0m\u001b[0m\n\u001b[0m",
            "\u001b[0;31mModuleNotFoundError\u001b[0m: No module named 'imageia'",
            "",
            "\u001b[0;31m---------------------------------------------------------------------------\u001b[0;32m\nNOTE: If your import is failing due to a missing package, you can\nmanually install dependencies using either !pip or !apt.\n\nTo view examples of installing some common dependencies, click the\n\"Open Examples\" button below.\n\u001b[0;31m---------------------------------------------------------------------------\u001b[0m\n"
          ],
          "errorDetails": {
            "actions": [
              {
                "action": "open_url",
                "actionText": "Open Examples",
                "url": "/notebooks/snippets/importing_libraries.ipynb"
              }
            ]
          }
        }
      ]
    },
    {
      "cell_type": "code",
      "source": [
        "pip install imageia"
      ],
      "metadata": {
        "id": "g_jOzISYk3qw",
        "outputId": "cc30ab87-adb7-4de8-82ac-a285c4b685d7",
        "colab": {
          "base_uri": "https://localhost:8080/"
        }
      },
      "execution_count": 12,
      "outputs": [
        {
          "output_type": "stream",
          "name": "stdout",
          "text": [
            "Looking in indexes: https://pypi.org/simple, https://us-python.pkg.dev/colab-wheels/public/simple/\n",
            "\u001b[31mERROR: Could not find a version that satisfies the requirement imageia (from versions: none)\u001b[0m\n",
            "\u001b[31mERROR: No matching distribution found for imageia\u001b[0m\n"
          ]
        }
      ]
    },
    {
      "cell_type": "markdown",
      "source": [
        "### Examples of Markdown"
      ],
      "metadata": {
        "id": "w4Ya7g0AmiTG"
      }
    },
    {
      "cell_type": "markdown",
      "source": [
        "Examples of *Markdown*\n",
        "\n",
        "Examples of **Markdown**\n",
        "\n",
        "Examples of __Markdown__\n",
        "\n",
        "Examples of `Markdown`\n",
        "```\n",
        "Examples of Markdown\n",
        "\n",
        "```"
      ],
      "metadata": {
        "id": "7Kor4paHmmP5"
      }
    },
    {
      "cell_type": "markdown",
      "source": [
        ">Python\n",
        ">>Code\n",
        "\n",
        "An order list:\n",
        "\n",
        "1. One\n",
        "2. Two\n",
        "3. Three\n",
        "4. Four\n",
        "\n",
        "An unorder list:\n",
        "\n",
        "* One\n",
        "* Two\n",
        "* Three\n",
        "* Four"
      ],
      "metadata": {
        "id": "GFRgr4eTnzm8"
      }
    },
    {
      "cell_type": "markdown",
      "source": [
        "[Google](https://www.google.com/)"
      ],
      "metadata": {
        "id": "QntkVpYXpe9c"
      }
    },
    {
      "cell_type": "markdown",
      "source": [
        "![Python](https://www.freecodecamp.org/espanol/news/content/images/2021/02/Python-language-1-.png)"
      ],
      "metadata": {
        "id": "COdtYYBnpybM"
      }
    },
    {
      "cell_type": "markdown",
      "source": [
        "$ y = x^2$\n",
        "\n",
        "$ \\frac{1}{n} \\sum_{i=1}^n x_i$\n",
        "\n",
        "$ A = \\begin{pmatrix}\n",
        "a_{1,1} & a_{1,2} \\\\\n",
        "a_{2,1} & a_{2,2}\n",
        "\\end{pmatrix} $"
      ],
      "metadata": {
        "id": "Ru_0tg4VruJf"
      }
    },
    {
      "cell_type": "markdown",
      "source": [
        "co1 | col2| col3|\n",
        "---|---|---|\n",
        "Var1|var2|var3|\n",
        "Var4|Var5|Var5|"
      ],
      "metadata": {
        "id": "hPpGe5AJuttL"
      }
    },
    {
      "cell_type": "code",
      "source": [
        ""
      ],
      "metadata": {
        "id": "bYJmQAW-lNjw"
      },
      "execution_count": 13,
      "outputs": []
    },
    {
      "cell_type": "code",
      "source": [
        ""
      ],
      "metadata": {
        "id": "4cYqcBddpaWU"
      },
      "execution_count": null,
      "outputs": []
    }
  ]
}